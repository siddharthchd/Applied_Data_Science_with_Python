{
  "nbformat": 4,
  "nbformat_minor": 0,
  "metadata": {
    "colab": {
      "name": "lessonExample.ipynb",
      "provenance": [],
      "authorship_tag": "ABX9TyN0kCDSuv5iZNaFIJ+Ob8Bm",
      "include_colab_link": true
    },
    "kernelspec": {
      "name": "python3",
      "display_name": "Python 3"
    }
  },
  "cells": [
    {
      "cell_type": "markdown",
      "metadata": {
        "id": "view-in-github",
        "colab_type": "text"
      },
      "source": [
        "<a href=\"https://colab.research.google.com/github/siddharthchd/Applied_Data_Science_with_Python/blob/main/Introduction_to_Data_Science_in_Python/week2/lessonExample.ipynb\" target=\"_parent\"><img src=\"https://colab.research.google.com/assets/colab-badge.svg\" alt=\"Open In Colab\"/></a>"
      ]
    },
    {
      "cell_type": "code",
      "metadata": {
        "colab": {
          "base_uri": "https://localhost:8080/",
          "height": 197
        },
        "id": "BHddwtHiNvG4",
        "outputId": "a28756b2-98eb-48d1-aefe-8e4a138d292f"
      },
      "source": [
        "import pandas as pd\r\n",
        "\r\n",
        "df = pd.read_csv('presidents.csv')\r\n",
        "df.head()"
      ],
      "execution_count": 2,
      "outputs": [
        {
          "output_type": "execute_result",
          "data": {
            "text/html": [
              "<div>\n",
              "<style scoped>\n",
              "    .dataframe tbody tr th:only-of-type {\n",
              "        vertical-align: middle;\n",
              "    }\n",
              "\n",
              "    .dataframe tbody tr th {\n",
              "        vertical-align: top;\n",
              "    }\n",
              "\n",
              "    .dataframe thead th {\n",
              "        text-align: right;\n",
              "    }\n",
              "</style>\n",
              "<table border=\"1\" class=\"dataframe\">\n",
              "  <thead>\n",
              "    <tr style=\"text-align: right;\">\n",
              "      <th></th>\n",
              "      <th>#</th>\n",
              "      <th>President</th>\n",
              "      <th>Born</th>\n",
              "      <th>Age atstart of presidency</th>\n",
              "      <th>Age atend of presidency</th>\n",
              "      <th>Post-presidencytimespan</th>\n",
              "      <th>Died</th>\n",
              "      <th>Age</th>\n",
              "    </tr>\n",
              "  </thead>\n",
              "  <tbody>\n",
              "    <tr>\n",
              "      <th>0</th>\n",
              "      <td>1</td>\n",
              "      <td>George Washington</td>\n",
              "      <td>Feb 22, 1732[a]</td>\n",
              "      <td>57 years, 67 daysApr 30, 1789</td>\n",
              "      <td>65 years, 10 daysMar 4, 1797</td>\n",
              "      <td>2 years, 285 days</td>\n",
              "      <td>Dec 14, 1799</td>\n",
              "      <td>67 years, 295 days</td>\n",
              "    </tr>\n",
              "    <tr>\n",
              "      <th>1</th>\n",
              "      <td>2</td>\n",
              "      <td>John Adams</td>\n",
              "      <td>Oct 30, 1735[a]</td>\n",
              "      <td>61 years, 125 daysMar 4, 1797</td>\n",
              "      <td>65 years, 125 daysMar 4, 1801</td>\n",
              "      <td>25 years, 122 days</td>\n",
              "      <td>Jul 4, 1826</td>\n",
              "      <td>90 years, 247 days</td>\n",
              "    </tr>\n",
              "    <tr>\n",
              "      <th>2</th>\n",
              "      <td>3</td>\n",
              "      <td>Thomas Jefferson</td>\n",
              "      <td>Apr 13, 1743[a]</td>\n",
              "      <td>57 years, 325 daysMar 4, 1801</td>\n",
              "      <td>65 years, 325 daysMar 4, 1809</td>\n",
              "      <td>17 years, 122 days</td>\n",
              "      <td>Jul 4, 1826</td>\n",
              "      <td>83 years, 82 days</td>\n",
              "    </tr>\n",
              "    <tr>\n",
              "      <th>3</th>\n",
              "      <td>4</td>\n",
              "      <td>James Madison</td>\n",
              "      <td>Mar 16, 1751[a]</td>\n",
              "      <td>57 years, 353 daysMar 4, 1809</td>\n",
              "      <td>65 years, 353 daysMar 4, 1817</td>\n",
              "      <td>19 years, 116 days</td>\n",
              "      <td>Jun 28, 1836</td>\n",
              "      <td>85 years, 104 days</td>\n",
              "    </tr>\n",
              "    <tr>\n",
              "      <th>4</th>\n",
              "      <td>5</td>\n",
              "      <td>James Monroe</td>\n",
              "      <td>Apr 28, 1758</td>\n",
              "      <td>58 years, 310 daysMar 4, 1817</td>\n",
              "      <td>66 years, 310 daysMar 4, 1825</td>\n",
              "      <td>6 years, 122 days</td>\n",
              "      <td>Jul 4, 1831</td>\n",
              "      <td>73 years, 67 days</td>\n",
              "    </tr>\n",
              "  </tbody>\n",
              "</table>\n",
              "</div>"
            ],
            "text/plain": [
              "   #          President  ...          Died                 Age\n",
              "0  1  George Washington  ...  Dec 14, 1799  67 years, 295 days\n",
              "1  2         John Adams  ...   Jul 4, 1826  90 years, 247 days\n",
              "2  3   Thomas Jefferson  ...   Jul 4, 1826   83 years, 82 days\n",
              "3  4      James Madison  ...  Jun 28, 1836  85 years, 104 days\n",
              "4  5       James Monroe  ...   Jul 4, 1831   73 years, 67 days\n",
              "\n",
              "[5 rows x 8 columns]"
            ]
          },
          "metadata": {
            "tags": []
          },
          "execution_count": 2
        }
      ]
    },
    {
      "cell_type": "code",
      "metadata": {
        "colab": {
          "base_uri": "https://localhost:8080/",
          "height": 197
        },
        "id": "gJjmS7lJOATC",
        "outputId": "cf92e703-eeee-429b-889a-1695c05a6e58"
      },
      "source": [
        "df[\"First\"] = df['President']\r\n",
        "df['First'] = df['First'].replace(\"[ ].*\", \"\", regex = True)\r\n",
        "df.head()"
      ],
      "execution_count": 3,
      "outputs": [
        {
          "output_type": "execute_result",
          "data": {
            "text/html": [
              "<div>\n",
              "<style scoped>\n",
              "    .dataframe tbody tr th:only-of-type {\n",
              "        vertical-align: middle;\n",
              "    }\n",
              "\n",
              "    .dataframe tbody tr th {\n",
              "        vertical-align: top;\n",
              "    }\n",
              "\n",
              "    .dataframe thead th {\n",
              "        text-align: right;\n",
              "    }\n",
              "</style>\n",
              "<table border=\"1\" class=\"dataframe\">\n",
              "  <thead>\n",
              "    <tr style=\"text-align: right;\">\n",
              "      <th></th>\n",
              "      <th>#</th>\n",
              "      <th>President</th>\n",
              "      <th>Born</th>\n",
              "      <th>Age atstart of presidency</th>\n",
              "      <th>Age atend of presidency</th>\n",
              "      <th>Post-presidencytimespan</th>\n",
              "      <th>Died</th>\n",
              "      <th>Age</th>\n",
              "      <th>First</th>\n",
              "    </tr>\n",
              "  </thead>\n",
              "  <tbody>\n",
              "    <tr>\n",
              "      <th>0</th>\n",
              "      <td>1</td>\n",
              "      <td>George Washington</td>\n",
              "      <td>Feb 22, 1732[a]</td>\n",
              "      <td>57 years, 67 daysApr 30, 1789</td>\n",
              "      <td>65 years, 10 daysMar 4, 1797</td>\n",
              "      <td>2 years, 285 days</td>\n",
              "      <td>Dec 14, 1799</td>\n",
              "      <td>67 years, 295 days</td>\n",
              "      <td>George</td>\n",
              "    </tr>\n",
              "    <tr>\n",
              "      <th>1</th>\n",
              "      <td>2</td>\n",
              "      <td>John Adams</td>\n",
              "      <td>Oct 30, 1735[a]</td>\n",
              "      <td>61 years, 125 daysMar 4, 1797</td>\n",
              "      <td>65 years, 125 daysMar 4, 1801</td>\n",
              "      <td>25 years, 122 days</td>\n",
              "      <td>Jul 4, 1826</td>\n",
              "      <td>90 years, 247 days</td>\n",
              "      <td>John</td>\n",
              "    </tr>\n",
              "    <tr>\n",
              "      <th>2</th>\n",
              "      <td>3</td>\n",
              "      <td>Thomas Jefferson</td>\n",
              "      <td>Apr 13, 1743[a]</td>\n",
              "      <td>57 years, 325 daysMar 4, 1801</td>\n",
              "      <td>65 years, 325 daysMar 4, 1809</td>\n",
              "      <td>17 years, 122 days</td>\n",
              "      <td>Jul 4, 1826</td>\n",
              "      <td>83 years, 82 days</td>\n",
              "      <td>Thomas</td>\n",
              "    </tr>\n",
              "    <tr>\n",
              "      <th>3</th>\n",
              "      <td>4</td>\n",
              "      <td>James Madison</td>\n",
              "      <td>Mar 16, 1751[a]</td>\n",
              "      <td>57 years, 353 daysMar 4, 1809</td>\n",
              "      <td>65 years, 353 daysMar 4, 1817</td>\n",
              "      <td>19 years, 116 days</td>\n",
              "      <td>Jun 28, 1836</td>\n",
              "      <td>85 years, 104 days</td>\n",
              "      <td>James</td>\n",
              "    </tr>\n",
              "    <tr>\n",
              "      <th>4</th>\n",
              "      <td>5</td>\n",
              "      <td>James Monroe</td>\n",
              "      <td>Apr 28, 1758</td>\n",
              "      <td>58 years, 310 daysMar 4, 1817</td>\n",
              "      <td>66 years, 310 daysMar 4, 1825</td>\n",
              "      <td>6 years, 122 days</td>\n",
              "      <td>Jul 4, 1831</td>\n",
              "      <td>73 years, 67 days</td>\n",
              "      <td>James</td>\n",
              "    </tr>\n",
              "  </tbody>\n",
              "</table>\n",
              "</div>"
            ],
            "text/plain": [
              "   #          President  ...                 Age   First\n",
              "0  1  George Washington  ...  67 years, 295 days  George\n",
              "1  2         John Adams  ...  90 years, 247 days    John\n",
              "2  3   Thomas Jefferson  ...   83 years, 82 days  Thomas\n",
              "3  4      James Madison  ...  85 years, 104 days   James\n",
              "4  5       James Monroe  ...   73 years, 67 days   James\n",
              "\n",
              "[5 rows x 9 columns]"
            ]
          },
          "metadata": {
            "tags": []
          },
          "execution_count": 3
        }
      ]
    },
    {
      "cell_type": "code",
      "metadata": {
        "id": "IveHk-OsOQkA"
      },
      "source": [
        "del(df['First'])"
      ],
      "execution_count": 4,
      "outputs": []
    },
    {
      "cell_type": "code",
      "metadata": {
        "colab": {
          "base_uri": "https://localhost:8080/",
          "height": 197
        },
        "id": "p_ZKHEWVOaKR",
        "outputId": "31aa1488-b5fa-4e9a-c563-eff225c245ad"
      },
      "source": [
        "def splitname(row):\r\n",
        "  \r\n",
        "  row['First'] = row['President'].split(\" \")[0]\r\n",
        "  row['Last'] = row['President'].split(\" \")[-1]\r\n",
        "\r\n",
        "  return row\r\n",
        "\r\n",
        "df = df.apply(splitname, axis = 'columns')\r\n",
        "df.head()"
      ],
      "execution_count": 5,
      "outputs": [
        {
          "output_type": "execute_result",
          "data": {
            "text/html": [
              "<div>\n",
              "<style scoped>\n",
              "    .dataframe tbody tr th:only-of-type {\n",
              "        vertical-align: middle;\n",
              "    }\n",
              "\n",
              "    .dataframe tbody tr th {\n",
              "        vertical-align: top;\n",
              "    }\n",
              "\n",
              "    .dataframe thead th {\n",
              "        text-align: right;\n",
              "    }\n",
              "</style>\n",
              "<table border=\"1\" class=\"dataframe\">\n",
              "  <thead>\n",
              "    <tr style=\"text-align: right;\">\n",
              "      <th></th>\n",
              "      <th>#</th>\n",
              "      <th>President</th>\n",
              "      <th>Born</th>\n",
              "      <th>Age atstart of presidency</th>\n",
              "      <th>Age atend of presidency</th>\n",
              "      <th>Post-presidencytimespan</th>\n",
              "      <th>Died</th>\n",
              "      <th>Age</th>\n",
              "      <th>First</th>\n",
              "      <th>Last</th>\n",
              "    </tr>\n",
              "  </thead>\n",
              "  <tbody>\n",
              "    <tr>\n",
              "      <th>0</th>\n",
              "      <td>1</td>\n",
              "      <td>George Washington</td>\n",
              "      <td>Feb 22, 1732[a]</td>\n",
              "      <td>57 years, 67 daysApr 30, 1789</td>\n",
              "      <td>65 years, 10 daysMar 4, 1797</td>\n",
              "      <td>2 years, 285 days</td>\n",
              "      <td>Dec 14, 1799</td>\n",
              "      <td>67 years, 295 days</td>\n",
              "      <td>George</td>\n",
              "      <td>Washington</td>\n",
              "    </tr>\n",
              "    <tr>\n",
              "      <th>1</th>\n",
              "      <td>2</td>\n",
              "      <td>John Adams</td>\n",
              "      <td>Oct 30, 1735[a]</td>\n",
              "      <td>61 years, 125 daysMar 4, 1797</td>\n",
              "      <td>65 years, 125 daysMar 4, 1801</td>\n",
              "      <td>25 years, 122 days</td>\n",
              "      <td>Jul 4, 1826</td>\n",
              "      <td>90 years, 247 days</td>\n",
              "      <td>John</td>\n",
              "      <td>Adams</td>\n",
              "    </tr>\n",
              "    <tr>\n",
              "      <th>2</th>\n",
              "      <td>3</td>\n",
              "      <td>Thomas Jefferson</td>\n",
              "      <td>Apr 13, 1743[a]</td>\n",
              "      <td>57 years, 325 daysMar 4, 1801</td>\n",
              "      <td>65 years, 325 daysMar 4, 1809</td>\n",
              "      <td>17 years, 122 days</td>\n",
              "      <td>Jul 4, 1826</td>\n",
              "      <td>83 years, 82 days</td>\n",
              "      <td>Thomas</td>\n",
              "      <td>Jefferson</td>\n",
              "    </tr>\n",
              "    <tr>\n",
              "      <th>3</th>\n",
              "      <td>4</td>\n",
              "      <td>James Madison</td>\n",
              "      <td>Mar 16, 1751[a]</td>\n",
              "      <td>57 years, 353 daysMar 4, 1809</td>\n",
              "      <td>65 years, 353 daysMar 4, 1817</td>\n",
              "      <td>19 years, 116 days</td>\n",
              "      <td>Jun 28, 1836</td>\n",
              "      <td>85 years, 104 days</td>\n",
              "      <td>James</td>\n",
              "      <td>Madison</td>\n",
              "    </tr>\n",
              "    <tr>\n",
              "      <th>4</th>\n",
              "      <td>5</td>\n",
              "      <td>James Monroe</td>\n",
              "      <td>Apr 28, 1758</td>\n",
              "      <td>58 years, 310 daysMar 4, 1817</td>\n",
              "      <td>66 years, 310 daysMar 4, 1825</td>\n",
              "      <td>6 years, 122 days</td>\n",
              "      <td>Jul 4, 1831</td>\n",
              "      <td>73 years, 67 days</td>\n",
              "      <td>James</td>\n",
              "      <td>Monroe</td>\n",
              "    </tr>\n",
              "  </tbody>\n",
              "</table>\n",
              "</div>"
            ],
            "text/plain": [
              "   #          President  ...   First        Last\n",
              "0  1  George Washington  ...  George  Washington\n",
              "1  2         John Adams  ...    John       Adams\n",
              "2  3   Thomas Jefferson  ...  Thomas   Jefferson\n",
              "3  4      James Madison  ...   James     Madison\n",
              "4  5       James Monroe  ...   James      Monroe\n",
              "\n",
              "[5 rows x 10 columns]"
            ]
          },
          "metadata": {
            "tags": []
          },
          "execution_count": 5
        }
      ]
    },
    {
      "cell_type": "code",
      "metadata": {
        "id": "7Heyu13lOtoZ"
      },
      "source": [
        "del(df['First'])\r\n",
        "del(df['Last'])"
      ],
      "execution_count": 6,
      "outputs": []
    },
    {
      "cell_type": "code",
      "metadata": {
        "colab": {
          "base_uri": "https://localhost:8080/",
          "height": 197
        },
        "id": "p9Ez9j7hO1cJ",
        "outputId": "443eb90e-5d8c-4c9d-bf20-7c5011221375"
      },
      "source": [
        "pattern = \"(^[\\w]*)(?:.* )([\\w]*$)\"\r\n",
        "df['President'].str.extract(pattern).head()"
      ],
      "execution_count": 7,
      "outputs": [
        {
          "output_type": "execute_result",
          "data": {
            "text/html": [
              "<div>\n",
              "<style scoped>\n",
              "    .dataframe tbody tr th:only-of-type {\n",
              "        vertical-align: middle;\n",
              "    }\n",
              "\n",
              "    .dataframe tbody tr th {\n",
              "        vertical-align: top;\n",
              "    }\n",
              "\n",
              "    .dataframe thead th {\n",
              "        text-align: right;\n",
              "    }\n",
              "</style>\n",
              "<table border=\"1\" class=\"dataframe\">\n",
              "  <thead>\n",
              "    <tr style=\"text-align: right;\">\n",
              "      <th></th>\n",
              "      <th>0</th>\n",
              "      <th>1</th>\n",
              "    </tr>\n",
              "  </thead>\n",
              "  <tbody>\n",
              "    <tr>\n",
              "      <th>0</th>\n",
              "      <td>George</td>\n",
              "      <td>Washington</td>\n",
              "    </tr>\n",
              "    <tr>\n",
              "      <th>1</th>\n",
              "      <td>John</td>\n",
              "      <td>Adams</td>\n",
              "    </tr>\n",
              "    <tr>\n",
              "      <th>2</th>\n",
              "      <td>Thomas</td>\n",
              "      <td>Jefferson</td>\n",
              "    </tr>\n",
              "    <tr>\n",
              "      <th>3</th>\n",
              "      <td>James</td>\n",
              "      <td>Madison</td>\n",
              "    </tr>\n",
              "    <tr>\n",
              "      <th>4</th>\n",
              "      <td>James</td>\n",
              "      <td>Monroe</td>\n",
              "    </tr>\n",
              "  </tbody>\n",
              "</table>\n",
              "</div>"
            ],
            "text/plain": [
              "        0           1\n",
              "0  George  Washington\n",
              "1    John       Adams\n",
              "2  Thomas   Jefferson\n",
              "3   James     Madison\n",
              "4   James      Monroe"
            ]
          },
          "metadata": {
            "tags": []
          },
          "execution_count": 7
        }
      ]
    },
    {
      "cell_type": "code",
      "metadata": {
        "colab": {
          "base_uri": "https://localhost:8080/",
          "height": 197
        },
        "id": "EailyPKHPDdA",
        "outputId": "dfa2822c-7a93-4a4e-a456-f096e935302b"
      },
      "source": [
        "pattern = \"(?P<First>^[\\w]*)(?:.* )(?P<Last>[\\w]*$)\"\r\n",
        "names = df['President'].str.extract(pattern).head()\r\n",
        "names"
      ],
      "execution_count": 8,
      "outputs": [
        {
          "output_type": "execute_result",
          "data": {
            "text/html": [
              "<div>\n",
              "<style scoped>\n",
              "    .dataframe tbody tr th:only-of-type {\n",
              "        vertical-align: middle;\n",
              "    }\n",
              "\n",
              "    .dataframe tbody tr th {\n",
              "        vertical-align: top;\n",
              "    }\n",
              "\n",
              "    .dataframe thead th {\n",
              "        text-align: right;\n",
              "    }\n",
              "</style>\n",
              "<table border=\"1\" class=\"dataframe\">\n",
              "  <thead>\n",
              "    <tr style=\"text-align: right;\">\n",
              "      <th></th>\n",
              "      <th>First</th>\n",
              "      <th>Last</th>\n",
              "    </tr>\n",
              "  </thead>\n",
              "  <tbody>\n",
              "    <tr>\n",
              "      <th>0</th>\n",
              "      <td>George</td>\n",
              "      <td>Washington</td>\n",
              "    </tr>\n",
              "    <tr>\n",
              "      <th>1</th>\n",
              "      <td>John</td>\n",
              "      <td>Adams</td>\n",
              "    </tr>\n",
              "    <tr>\n",
              "      <th>2</th>\n",
              "      <td>Thomas</td>\n",
              "      <td>Jefferson</td>\n",
              "    </tr>\n",
              "    <tr>\n",
              "      <th>3</th>\n",
              "      <td>James</td>\n",
              "      <td>Madison</td>\n",
              "    </tr>\n",
              "    <tr>\n",
              "      <th>4</th>\n",
              "      <td>James</td>\n",
              "      <td>Monroe</td>\n",
              "    </tr>\n",
              "  </tbody>\n",
              "</table>\n",
              "</div>"
            ],
            "text/plain": [
              "    First        Last\n",
              "0  George  Washington\n",
              "1    John       Adams\n",
              "2  Thomas   Jefferson\n",
              "3   James     Madison\n",
              "4   James      Monroe"
            ]
          },
          "metadata": {
            "tags": []
          },
          "execution_count": 8
        }
      ]
    },
    {
      "cell_type": "code",
      "metadata": {
        "colab": {
          "base_uri": "https://localhost:8080/",
          "height": 197
        },
        "id": "_MZVllyYPMyY",
        "outputId": "0616ae13-b81a-44fb-93c7-43751f938197"
      },
      "source": [
        "df['First'] = names['First']\r\n",
        "df['Last'] = names['Last']\r\n",
        "df.head()"
      ],
      "execution_count": 10,
      "outputs": [
        {
          "output_type": "execute_result",
          "data": {
            "text/html": [
              "<div>\n",
              "<style scoped>\n",
              "    .dataframe tbody tr th:only-of-type {\n",
              "        vertical-align: middle;\n",
              "    }\n",
              "\n",
              "    .dataframe tbody tr th {\n",
              "        vertical-align: top;\n",
              "    }\n",
              "\n",
              "    .dataframe thead th {\n",
              "        text-align: right;\n",
              "    }\n",
              "</style>\n",
              "<table border=\"1\" class=\"dataframe\">\n",
              "  <thead>\n",
              "    <tr style=\"text-align: right;\">\n",
              "      <th></th>\n",
              "      <th>#</th>\n",
              "      <th>President</th>\n",
              "      <th>Born</th>\n",
              "      <th>Age atstart of presidency</th>\n",
              "      <th>Age atend of presidency</th>\n",
              "      <th>Post-presidencytimespan</th>\n",
              "      <th>Died</th>\n",
              "      <th>Age</th>\n",
              "      <th>First</th>\n",
              "      <th>Last</th>\n",
              "    </tr>\n",
              "  </thead>\n",
              "  <tbody>\n",
              "    <tr>\n",
              "      <th>0</th>\n",
              "      <td>1</td>\n",
              "      <td>George Washington</td>\n",
              "      <td>Feb 22, 1732[a]</td>\n",
              "      <td>57 years, 67 daysApr 30, 1789</td>\n",
              "      <td>65 years, 10 daysMar 4, 1797</td>\n",
              "      <td>2 years, 285 days</td>\n",
              "      <td>Dec 14, 1799</td>\n",
              "      <td>67 years, 295 days</td>\n",
              "      <td>George</td>\n",
              "      <td>Washington</td>\n",
              "    </tr>\n",
              "    <tr>\n",
              "      <th>1</th>\n",
              "      <td>2</td>\n",
              "      <td>John Adams</td>\n",
              "      <td>Oct 30, 1735[a]</td>\n",
              "      <td>61 years, 125 daysMar 4, 1797</td>\n",
              "      <td>65 years, 125 daysMar 4, 1801</td>\n",
              "      <td>25 years, 122 days</td>\n",
              "      <td>Jul 4, 1826</td>\n",
              "      <td>90 years, 247 days</td>\n",
              "      <td>John</td>\n",
              "      <td>Adams</td>\n",
              "    </tr>\n",
              "    <tr>\n",
              "      <th>2</th>\n",
              "      <td>3</td>\n",
              "      <td>Thomas Jefferson</td>\n",
              "      <td>Apr 13, 1743[a]</td>\n",
              "      <td>57 years, 325 daysMar 4, 1801</td>\n",
              "      <td>65 years, 325 daysMar 4, 1809</td>\n",
              "      <td>17 years, 122 days</td>\n",
              "      <td>Jul 4, 1826</td>\n",
              "      <td>83 years, 82 days</td>\n",
              "      <td>Thomas</td>\n",
              "      <td>Jefferson</td>\n",
              "    </tr>\n",
              "    <tr>\n",
              "      <th>3</th>\n",
              "      <td>4</td>\n",
              "      <td>James Madison</td>\n",
              "      <td>Mar 16, 1751[a]</td>\n",
              "      <td>57 years, 353 daysMar 4, 1809</td>\n",
              "      <td>65 years, 353 daysMar 4, 1817</td>\n",
              "      <td>19 years, 116 days</td>\n",
              "      <td>Jun 28, 1836</td>\n",
              "      <td>85 years, 104 days</td>\n",
              "      <td>James</td>\n",
              "      <td>Madison</td>\n",
              "    </tr>\n",
              "    <tr>\n",
              "      <th>4</th>\n",
              "      <td>5</td>\n",
              "      <td>James Monroe</td>\n",
              "      <td>Apr 28, 1758</td>\n",
              "      <td>58 years, 310 daysMar 4, 1817</td>\n",
              "      <td>66 years, 310 daysMar 4, 1825</td>\n",
              "      <td>6 years, 122 days</td>\n",
              "      <td>Jul 4, 1831</td>\n",
              "      <td>73 years, 67 days</td>\n",
              "      <td>James</td>\n",
              "      <td>Monroe</td>\n",
              "    </tr>\n",
              "  </tbody>\n",
              "</table>\n",
              "</div>"
            ],
            "text/plain": [
              "   #          President  ...   First        Last\n",
              "0  1  George Washington  ...  George  Washington\n",
              "1  2         John Adams  ...    John       Adams\n",
              "2  3   Thomas Jefferson  ...  Thomas   Jefferson\n",
              "3  4      James Madison  ...   James     Madison\n",
              "4  5       James Monroe  ...   James      Monroe\n",
              "\n",
              "[5 rows x 10 columns]"
            ]
          },
          "metadata": {
            "tags": []
          },
          "execution_count": 10
        }
      ]
    },
    {
      "cell_type": "code",
      "metadata": {
        "colab": {
          "base_uri": "https://localhost:8080/"
        },
        "id": "UqrvVkBsPVF4",
        "outputId": "115c7853-89b7-4e33-b284-516132c1ee20"
      },
      "source": [
        "df['Born'] = df['Born'].str.extract(\"([\\w]{3} [\\w]{1,2}, [\\w]{4})\")\r\n",
        "df['Born'].head()"
      ],
      "execution_count": 11,
      "outputs": [
        {
          "output_type": "execute_result",
          "data": {
            "text/plain": [
              "0    Feb 22, 1732\n",
              "1    Oct 30, 1735\n",
              "2    Apr 13, 1743\n",
              "3    Mar 16, 1751\n",
              "4    Apr 28, 1758\n",
              "Name: Born, dtype: object"
            ]
          },
          "metadata": {
            "tags": []
          },
          "execution_count": 11
        }
      ]
    },
    {
      "cell_type": "code",
      "metadata": {
        "id": "4MPzcdj8Q9Cw"
      },
      "source": [
        ""
      ],
      "execution_count": null,
      "outputs": []
    }
  ]
}