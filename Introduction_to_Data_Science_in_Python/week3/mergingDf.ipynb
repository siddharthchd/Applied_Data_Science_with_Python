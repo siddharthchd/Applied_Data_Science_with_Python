{
  "nbformat": 4,
  "nbformat_minor": 0,
  "metadata": {
    "colab": {
      "name": "mergingDf.ipynb",
      "provenance": [],
      "authorship_tag": "ABX9TyPSiPjZVWh1zbAHRLVM8Nf1",
      "include_colab_link": true
    },
    "kernelspec": {
      "name": "python3",
      "display_name": "Python 3"
    }
  },
  "cells": [
    {
      "cell_type": "markdown",
      "metadata": {
        "id": "view-in-github",
        "colab_type": "text"
      },
      "source": [
        "<a href=\"https://colab.research.google.com/github/siddharthchd/Applied_Data_Science_with_Python/blob/main/Introduction_to_Data_Science_in_Python/week3/mergingDf.ipynb\" target=\"_parent\"><img src=\"https://colab.research.google.com/assets/colab-badge.svg\" alt=\"Open In Colab\"/></a>"
      ]
    },
    {
      "cell_type": "code",
      "metadata": {
        "colab": {
          "base_uri": "https://localhost:8080/"
        },
        "id": "K9z9r_Mtb8Fl",
        "outputId": "adaee62e-f218-4be2-8742-41b4f598789f"
      },
      "source": [
        "import pandas as pd\r\n",
        "\r\n",
        "staff_df = pd.DataFrame([{'Name' : 'Kelly', 'Role' : 'Director of HR'},\r\n",
        "                         {'Name' : 'Sally', 'Role' : 'Course liason'},\r\n",
        "                         {'Name' : 'James', 'Role' : 'Grader'}])\r\n",
        "staff_df = staff_df.set_index('Name')\r\n",
        "\r\n",
        "student_df = pd.DataFrame([{'Name' : 'James', 'School' : 'Business'},\r\n",
        "                           {'Name' : 'Mike', 'School' : 'Law'},\r\n",
        "                           {'Name' : 'Sally', 'School' : 'Engineering'}])\r\n",
        "student_df = student_df.set_index('Name')\r\n",
        "\r\n",
        "print(staff_df.head())\r\n",
        "print(student_df.head())"
      ],
      "execution_count": 1,
      "outputs": [
        {
          "output_type": "stream",
          "text": [
            "                 Role\n",
            "Name                 \n",
            "Kelly  Director of HR\n",
            "Sally   Course liason\n",
            "James          Grader\n",
            "            School\n",
            "Name              \n",
            "James     Business\n",
            "Mike           Law\n",
            "Sally  Engineering\n"
          ],
          "name": "stdout"
        }
      ]
    },
    {
      "cell_type": "code",
      "metadata": {
        "colab": {
          "base_uri": "https://localhost:8080/",
          "height": 194
        },
        "id": "GPpXeZEgcxAL",
        "outputId": "f6b58dbf-9211-4817-8ba0-33db1233b3c6"
      },
      "source": [
        "pd.merge(staff_df, student_df, how = 'outer', left_index = True, right_index = True)"
      ],
      "execution_count": 2,
      "outputs": [
        {
          "output_type": "execute_result",
          "data": {
            "text/html": [
              "<div>\n",
              "<style scoped>\n",
              "    .dataframe tbody tr th:only-of-type {\n",
              "        vertical-align: middle;\n",
              "    }\n",
              "\n",
              "    .dataframe tbody tr th {\n",
              "        vertical-align: top;\n",
              "    }\n",
              "\n",
              "    .dataframe thead th {\n",
              "        text-align: right;\n",
              "    }\n",
              "</style>\n",
              "<table border=\"1\" class=\"dataframe\">\n",
              "  <thead>\n",
              "    <tr style=\"text-align: right;\">\n",
              "      <th></th>\n",
              "      <th>Role</th>\n",
              "      <th>School</th>\n",
              "    </tr>\n",
              "    <tr>\n",
              "      <th>Name</th>\n",
              "      <th></th>\n",
              "      <th></th>\n",
              "    </tr>\n",
              "  </thead>\n",
              "  <tbody>\n",
              "    <tr>\n",
              "      <th>James</th>\n",
              "      <td>Grader</td>\n",
              "      <td>Business</td>\n",
              "    </tr>\n",
              "    <tr>\n",
              "      <th>Kelly</th>\n",
              "      <td>Director of HR</td>\n",
              "      <td>NaN</td>\n",
              "    </tr>\n",
              "    <tr>\n",
              "      <th>Mike</th>\n",
              "      <td>NaN</td>\n",
              "      <td>Law</td>\n",
              "    </tr>\n",
              "    <tr>\n",
              "      <th>Sally</th>\n",
              "      <td>Course liason</td>\n",
              "      <td>Engineering</td>\n",
              "    </tr>\n",
              "  </tbody>\n",
              "</table>\n",
              "</div>"
            ],
            "text/plain": [
              "                 Role       School\n",
              "Name                              \n",
              "James          Grader     Business\n",
              "Kelly  Director of HR          NaN\n",
              "Mike              NaN          Law\n",
              "Sally   Course liason  Engineering"
            ]
          },
          "metadata": {
            "tags": []
          },
          "execution_count": 2
        }
      ]
    },
    {
      "cell_type": "code",
      "metadata": {
        "colab": {
          "base_uri": "https://localhost:8080/",
          "height": 135
        },
        "id": "HD7vJRP7c_Tq",
        "outputId": "4c3c7588-f327-4dd2-e661-d7a7d537b876"
      },
      "source": [
        "pd.merge(staff_df, student_df, how = 'inner', left_index = True, right_index = True)"
      ],
      "execution_count": 3,
      "outputs": [
        {
          "output_type": "execute_result",
          "data": {
            "text/html": [
              "<div>\n",
              "<style scoped>\n",
              "    .dataframe tbody tr th:only-of-type {\n",
              "        vertical-align: middle;\n",
              "    }\n",
              "\n",
              "    .dataframe tbody tr th {\n",
              "        vertical-align: top;\n",
              "    }\n",
              "\n",
              "    .dataframe thead th {\n",
              "        text-align: right;\n",
              "    }\n",
              "</style>\n",
              "<table border=\"1\" class=\"dataframe\">\n",
              "  <thead>\n",
              "    <tr style=\"text-align: right;\">\n",
              "      <th></th>\n",
              "      <th>Role</th>\n",
              "      <th>School</th>\n",
              "    </tr>\n",
              "    <tr>\n",
              "      <th>Name</th>\n",
              "      <th></th>\n",
              "      <th></th>\n",
              "    </tr>\n",
              "  </thead>\n",
              "  <tbody>\n",
              "    <tr>\n",
              "      <th>Sally</th>\n",
              "      <td>Course liason</td>\n",
              "      <td>Engineering</td>\n",
              "    </tr>\n",
              "    <tr>\n",
              "      <th>James</th>\n",
              "      <td>Grader</td>\n",
              "      <td>Business</td>\n",
              "    </tr>\n",
              "  </tbody>\n",
              "</table>\n",
              "</div>"
            ],
            "text/plain": [
              "                Role       School\n",
              "Name                             \n",
              "Sally  Course liason  Engineering\n",
              "James         Grader     Business"
            ]
          },
          "metadata": {
            "tags": []
          },
          "execution_count": 3
        }
      ]
    },
    {
      "cell_type": "code",
      "metadata": {
        "colab": {
          "base_uri": "https://localhost:8080/",
          "height": 164
        },
        "id": "tEv7p_UldGph",
        "outputId": "a654b2c4-b30e-4050-d01a-cc084354140e"
      },
      "source": [
        "pd.merge(staff_df, student_df, how = 'left', left_index = True, right_index = True)"
      ],
      "execution_count": 4,
      "outputs": [
        {
          "output_type": "execute_result",
          "data": {
            "text/html": [
              "<div>\n",
              "<style scoped>\n",
              "    .dataframe tbody tr th:only-of-type {\n",
              "        vertical-align: middle;\n",
              "    }\n",
              "\n",
              "    .dataframe tbody tr th {\n",
              "        vertical-align: top;\n",
              "    }\n",
              "\n",
              "    .dataframe thead th {\n",
              "        text-align: right;\n",
              "    }\n",
              "</style>\n",
              "<table border=\"1\" class=\"dataframe\">\n",
              "  <thead>\n",
              "    <tr style=\"text-align: right;\">\n",
              "      <th></th>\n",
              "      <th>Role</th>\n",
              "      <th>School</th>\n",
              "    </tr>\n",
              "    <tr>\n",
              "      <th>Name</th>\n",
              "      <th></th>\n",
              "      <th></th>\n",
              "    </tr>\n",
              "  </thead>\n",
              "  <tbody>\n",
              "    <tr>\n",
              "      <th>Kelly</th>\n",
              "      <td>Director of HR</td>\n",
              "      <td>NaN</td>\n",
              "    </tr>\n",
              "    <tr>\n",
              "      <th>Sally</th>\n",
              "      <td>Course liason</td>\n",
              "      <td>Engineering</td>\n",
              "    </tr>\n",
              "    <tr>\n",
              "      <th>James</th>\n",
              "      <td>Grader</td>\n",
              "      <td>Business</td>\n",
              "    </tr>\n",
              "  </tbody>\n",
              "</table>\n",
              "</div>"
            ],
            "text/plain": [
              "                 Role       School\n",
              "Name                              \n",
              "Kelly  Director of HR          NaN\n",
              "Sally   Course liason  Engineering\n",
              "James          Grader     Business"
            ]
          },
          "metadata": {
            "tags": []
          },
          "execution_count": 4
        }
      ]
    },
    {
      "cell_type": "code",
      "metadata": {
        "colab": {
          "base_uri": "https://localhost:8080/",
          "height": 164
        },
        "id": "RxUViUGfdTAo",
        "outputId": "ccb15b09-6228-43c7-9402-83fea7314618"
      },
      "source": [
        "pd.merge(staff_df, student_df, how = 'right', left_index = True, right_index = True)"
      ],
      "execution_count": 5,
      "outputs": [
        {
          "output_type": "execute_result",
          "data": {
            "text/html": [
              "<div>\n",
              "<style scoped>\n",
              "    .dataframe tbody tr th:only-of-type {\n",
              "        vertical-align: middle;\n",
              "    }\n",
              "\n",
              "    .dataframe tbody tr th {\n",
              "        vertical-align: top;\n",
              "    }\n",
              "\n",
              "    .dataframe thead th {\n",
              "        text-align: right;\n",
              "    }\n",
              "</style>\n",
              "<table border=\"1\" class=\"dataframe\">\n",
              "  <thead>\n",
              "    <tr style=\"text-align: right;\">\n",
              "      <th></th>\n",
              "      <th>Role</th>\n",
              "      <th>School</th>\n",
              "    </tr>\n",
              "    <tr>\n",
              "      <th>Name</th>\n",
              "      <th></th>\n",
              "      <th></th>\n",
              "    </tr>\n",
              "  </thead>\n",
              "  <tbody>\n",
              "    <tr>\n",
              "      <th>James</th>\n",
              "      <td>Grader</td>\n",
              "      <td>Business</td>\n",
              "    </tr>\n",
              "    <tr>\n",
              "      <th>Mike</th>\n",
              "      <td>NaN</td>\n",
              "      <td>Law</td>\n",
              "    </tr>\n",
              "    <tr>\n",
              "      <th>Sally</th>\n",
              "      <td>Course liason</td>\n",
              "      <td>Engineering</td>\n",
              "    </tr>\n",
              "  </tbody>\n",
              "</table>\n",
              "</div>"
            ],
            "text/plain": [
              "                Role       School\n",
              "Name                             \n",
              "James         Grader     Business\n",
              "Mike             NaN          Law\n",
              "Sally  Course liason  Engineering"
            ]
          },
          "metadata": {
            "tags": []
          },
          "execution_count": 5
        }
      ]
    },
    {
      "cell_type": "code",
      "metadata": {
        "colab": {
          "base_uri": "https://localhost:8080/",
          "height": 135
        },
        "id": "9N6OdiRvdVHA",
        "outputId": "3e77dbb1-f724-4abf-d2eb-2e466e455072"
      },
      "source": [
        "staff_df = staff_df.reset_index()\r\n",
        "student_df = student_df.reset_index()\r\n",
        "\r\n",
        "pd.merge(staff_df, student_df, how = 'right', on = 'Name')"
      ],
      "execution_count": 6,
      "outputs": [
        {
          "output_type": "execute_result",
          "data": {
            "text/html": [
              "<div>\n",
              "<style scoped>\n",
              "    .dataframe tbody tr th:only-of-type {\n",
              "        vertical-align: middle;\n",
              "    }\n",
              "\n",
              "    .dataframe tbody tr th {\n",
              "        vertical-align: top;\n",
              "    }\n",
              "\n",
              "    .dataframe thead th {\n",
              "        text-align: right;\n",
              "    }\n",
              "</style>\n",
              "<table border=\"1\" class=\"dataframe\">\n",
              "  <thead>\n",
              "    <tr style=\"text-align: right;\">\n",
              "      <th></th>\n",
              "      <th>Name</th>\n",
              "      <th>Role</th>\n",
              "      <th>School</th>\n",
              "    </tr>\n",
              "  </thead>\n",
              "  <tbody>\n",
              "    <tr>\n",
              "      <th>0</th>\n",
              "      <td>James</td>\n",
              "      <td>Grader</td>\n",
              "      <td>Business</td>\n",
              "    </tr>\n",
              "    <tr>\n",
              "      <th>1</th>\n",
              "      <td>Mike</td>\n",
              "      <td>NaN</td>\n",
              "      <td>Law</td>\n",
              "    </tr>\n",
              "    <tr>\n",
              "      <th>2</th>\n",
              "      <td>Sally</td>\n",
              "      <td>Course liason</td>\n",
              "      <td>Engineering</td>\n",
              "    </tr>\n",
              "  </tbody>\n",
              "</table>\n",
              "</div>"
            ],
            "text/plain": [
              "    Name           Role       School\n",
              "0  James         Grader     Business\n",
              "1   Mike            NaN          Law\n",
              "2  Sally  Course liason  Engineering"
            ]
          },
          "metadata": {
            "tags": []
          },
          "execution_count": 6
        }
      ]
    },
    {
      "cell_type": "code",
      "metadata": {
        "colab": {
          "base_uri": "https://localhost:8080/",
          "height": 135
        },
        "id": "IUV2mcHqdlEQ",
        "outputId": "5ffa6e62-0397-4658-aa82-de01e73039f6"
      },
      "source": [
        " staff_df = pd.DataFrame([{'Name' : 'Kelly', 'Role' : 'Director of HR', 'Location' : 'State Street'},\r\n",
        "                         {'Name' : 'Sally', 'Role' : 'Course liason', 'Location' : 'Washington Avenue'},\r\n",
        "                         {'Name' : 'James', 'Role' : 'Grader', 'Location' : 'Washington Avenue'}])\r\n",
        "\r\n",
        "student_df = pd.DataFrame([{'Name' : 'James', 'School' : 'Business', 'Location' : '1024 Billiard Avenue'},\r\n",
        "                           {'Name' : 'Mike', 'School' : 'Law', 'Location' : 'Fraternity House #22'},\r\n",
        "                           {'Name' : 'Sally', 'School' : 'Engineering', 'Location' : '512 Wilson Crescent'}])\r\n",
        "\r\n",
        "pd.merge(staff_df, student_df, how=  'left', on = 'Name')"
      ],
      "execution_count": 9,
      "outputs": [
        {
          "output_type": "execute_result",
          "data": {
            "text/html": [
              "<div>\n",
              "<style scoped>\n",
              "    .dataframe tbody tr th:only-of-type {\n",
              "        vertical-align: middle;\n",
              "    }\n",
              "\n",
              "    .dataframe tbody tr th {\n",
              "        vertical-align: top;\n",
              "    }\n",
              "\n",
              "    .dataframe thead th {\n",
              "        text-align: right;\n",
              "    }\n",
              "</style>\n",
              "<table border=\"1\" class=\"dataframe\">\n",
              "  <thead>\n",
              "    <tr style=\"text-align: right;\">\n",
              "      <th></th>\n",
              "      <th>Name</th>\n",
              "      <th>Role</th>\n",
              "      <th>Location_x</th>\n",
              "      <th>School</th>\n",
              "      <th>Location_y</th>\n",
              "    </tr>\n",
              "  </thead>\n",
              "  <tbody>\n",
              "    <tr>\n",
              "      <th>0</th>\n",
              "      <td>Kelly</td>\n",
              "      <td>Director of HR</td>\n",
              "      <td>State Street</td>\n",
              "      <td>NaN</td>\n",
              "      <td>NaN</td>\n",
              "    </tr>\n",
              "    <tr>\n",
              "      <th>1</th>\n",
              "      <td>Sally</td>\n",
              "      <td>Course liason</td>\n",
              "      <td>Washington Avenue</td>\n",
              "      <td>Engineering</td>\n",
              "      <td>512 Wilson Crescent</td>\n",
              "    </tr>\n",
              "    <tr>\n",
              "      <th>2</th>\n",
              "      <td>James</td>\n",
              "      <td>Grader</td>\n",
              "      <td>Washington Avenue</td>\n",
              "      <td>Business</td>\n",
              "      <td>1024 Billiard Avenue</td>\n",
              "    </tr>\n",
              "  </tbody>\n",
              "</table>\n",
              "</div>"
            ],
            "text/plain": [
              "    Name            Role         Location_x       School            Location_y\n",
              "0  Kelly  Director of HR       State Street          NaN                   NaN\n",
              "1  Sally   Course liason  Washington Avenue  Engineering   512 Wilson Crescent\n",
              "2  James          Grader  Washington Avenue     Business  1024 Billiard Avenue"
            ]
          },
          "metadata": {
            "tags": []
          },
          "execution_count": 9
        }
      ]
    },
    {
      "cell_type": "code",
      "metadata": {
        "colab": {
          "base_uri": "https://localhost:8080/",
          "height": 76
        },
        "id": "a-nzoT2WjRcb",
        "outputId": "1e43a56d-74ed-4b74-86f5-ed2f22bd6c9d"
      },
      "source": [
        "staff_df = pd.DataFrame([{'First Name' : 'Kelly', 'Last Name' : 'Desjardins', 'Role' : 'Director of HR'},\r\n",
        "                         {'First Name' : 'Sally', 'Last Name' : 'Brooks', 'Role' : 'Course liason'},\r\n",
        "                         {'First Name' : 'James', 'Last Name' : 'Wilde ', 'Role' : 'Grader'}])\r\n",
        "\r\n",
        "student_df = pd.DataFrame([{'First Name' : 'James', 'Last Name' : 'Hammond', 'School' : 'Business'},\r\n",
        "                           {'First Name' : 'Mike', 'Lsat Name' : 'Smith', 'School' : 'Law'},\r\n",
        "                           {'First Name' : 'Sally', 'Last Name' : 'Brooks', 'School' : 'Engineering'}])\r\n",
        "\r\n",
        "pd.merge(staff_df, student_df, how = 'inner', on = ['First Name', 'Last Name'])"
      ],
      "execution_count": 10,
      "outputs": [
        {
          "output_type": "execute_result",
          "data": {
            "text/html": [
              "<div>\n",
              "<style scoped>\n",
              "    .dataframe tbody tr th:only-of-type {\n",
              "        vertical-align: middle;\n",
              "    }\n",
              "\n",
              "    .dataframe tbody tr th {\n",
              "        vertical-align: top;\n",
              "    }\n",
              "\n",
              "    .dataframe thead th {\n",
              "        text-align: right;\n",
              "    }\n",
              "</style>\n",
              "<table border=\"1\" class=\"dataframe\">\n",
              "  <thead>\n",
              "    <tr style=\"text-align: right;\">\n",
              "      <th></th>\n",
              "      <th>First Name</th>\n",
              "      <th>Last Name</th>\n",
              "      <th>Role</th>\n",
              "      <th>School</th>\n",
              "      <th>Lsat Name</th>\n",
              "    </tr>\n",
              "  </thead>\n",
              "  <tbody>\n",
              "    <tr>\n",
              "      <th>0</th>\n",
              "      <td>Sally</td>\n",
              "      <td>Brooks</td>\n",
              "      <td>Course liason</td>\n",
              "      <td>Engineering</td>\n",
              "      <td>NaN</td>\n",
              "    </tr>\n",
              "  </tbody>\n",
              "</table>\n",
              "</div>"
            ],
            "text/plain": [
              "  First Name Last Name           Role       School Lsat Name\n",
              "0      Sally    Brooks  Course liason  Engineering       NaN"
            ]
          },
          "metadata": {
            "tags": []
          },
          "execution_count": 10
        }
      ]
    },
    {
      "cell_type": "code",
      "metadata": {
        "id": "2t36rfMQkQGO"
      },
      "source": [
        " # pd.concat(frames, keys = ['2011', '2012', '2013])"
      ],
      "execution_count": null,
      "outputs": []
    }
  ]
}